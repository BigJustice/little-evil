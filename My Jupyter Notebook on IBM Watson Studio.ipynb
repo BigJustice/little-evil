{
 "cells": [
  {
   "cell_type": "markdown",
   "metadata": {
    "collapsed": true
   },
   "source": [
    "# My Jupyter Notebook on IBM Watson Studio"
   ]
  },
  {
   "cell_type": "markdown",
   "metadata": {},
   "source": [
    "**Markus Zhou**\n",
    "\n",
    "100% Human"
   ]
  },
  {
   "cell_type": "markdown",
   "metadata": {},
   "source": [
    "*I am interested in data science because data can help us predict the future.*"
   ]
  },
  {
   "cell_type": "markdown",
   "metadata": {},
   "source": [
    "### The following code tests the Gaus Formula"
   ]
  },
  {
   "cell_type": "code",
   "execution_count": 2,
   "metadata": {},
   "outputs": [
    {
     "data": {
      "text/plain": [
       "True"
      ]
     },
     "execution_count": 2,
     "metadata": {},
     "output_type": "execute_result"
    }
   ],
   "source": [
    "def gaus(n):\n",
    "    return (n*(n+1))/2\n",
    "gaus(100) == sum(range(101))"
   ]
  },
  {
   "cell_type": "markdown",
   "metadata": {},
   "source": [
    "~am i deleted~\n",
    "\n",
    "<mark>am i marked<mark>\n",
    "\n",
    "    \n",
    "| name_A | name_B | name_red | name_green |\n",
    "| ------ | ------ | -----    | ------     |\n",
    "| cell_1 | cell_2 |<font color = red> cell_3 | <font color = green> cell_4 |\n",
    "    \n",
    "\n",
    "+ row1\n",
    "- row2\n",
    "* row3"
   ]
  }
 ],
 "metadata": {
  "kernelspec": {
   "display_name": "Python 3.9",
   "language": "python",
   "name": "python3"
  },
  "language_info": {
   "codemirror_mode": {
    "name": "ipython",
    "version": 3
   },
   "file_extension": ".py",
   "mimetype": "text/x-python",
   "name": "python",
   "nbconvert_exporter": "python",
   "pygments_lexer": "ipython3",
   "version": "3.9.12"
  }
 },
 "nbformat": 4,
 "nbformat_minor": 1
}
